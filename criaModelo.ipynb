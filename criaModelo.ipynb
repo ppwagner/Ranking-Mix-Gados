{
 "cells": [
  {
   "cell_type": "code",
   "execution_count": 42,
   "metadata": {},
   "outputs": [],
   "source": [
    "import numpy as np\n",
    "import pandas as pd\n",
    "from sklearn.metrics import mean_absolute_error\n",
    "from sklearn.preprocessing import StandardScaler, OneHotEncoder #normalizacao\n",
    "from sklearn.pipeline import Pipeline #definir sequencias de transformacoes\n",
    "from sklearn.compose import ColumnTransformer #aplicacao do pipeline\n",
    "from sklearn.model_selection import train_test_split\n",
    "from sklearn.metrics import r2_score, mean_squared_error\n",
    "\n",
    "#modelos\n",
    "from sklearn.linear_model import LinearRegression\n",
    "from sklearn.neighbors import KNeighborsRegressor\n",
    "from sklearn.tree import DecisionTreeRegressor\n",
    "from sklearn.ensemble import RandomForestRegressor"
   ]
  },
  {
   "cell_type": "markdown",
   "metadata": {},
   "source": [
    "### Import do dataset e tratamento do mesmo"
   ]
  },
  {
   "cell_type": "code",
   "execution_count": 2,
   "metadata": {},
   "outputs": [
    {
     "data": {
      "text/html": [
       "<div>\n",
       "<style scoped>\n",
       "    .dataframe tbody tr th:only-of-type {\n",
       "        vertical-align: middle;\n",
       "    }\n",
       "\n",
       "    .dataframe tbody tr th {\n",
       "        vertical-align: top;\n",
       "    }\n",
       "\n",
       "    .dataframe thead th {\n",
       "        text-align: right;\n",
       "    }\n",
       "</style>\n",
       "<table border=\"1\" class=\"dataframe\">\n",
       "  <thead>\n",
       "    <tr style=\"text-align: right;\">\n",
       "      <th></th>\n",
       "      <th>opggScore</th>\n",
       "      <th>kda</th>\n",
       "      <th>kill_participation</th>\n",
       "      <th>dmg_per_death</th>\n",
       "      <th>vision</th>\n",
       "      <th>CS_per_min</th>\n",
       "      <th>role</th>\n",
       "    </tr>\n",
       "  </thead>\n",
       "  <tbody>\n",
       "    <tr>\n",
       "      <th>0</th>\n",
       "      <td>4.2</td>\n",
       "      <td>0.50</td>\n",
       "      <td>17</td>\n",
       "      <td>1072.0</td>\n",
       "      <td>9</td>\n",
       "      <td>4.5</td>\n",
       "      <td>0</td>\n",
       "    </tr>\n",
       "    <tr>\n",
       "      <th>1</th>\n",
       "      <td>5.7</td>\n",
       "      <td>2.80</td>\n",
       "      <td>61</td>\n",
       "      <td>2502.0</td>\n",
       "      <td>6</td>\n",
       "      <td>6.1</td>\n",
       "      <td>1</td>\n",
       "    </tr>\n",
       "    <tr>\n",
       "      <th>2</th>\n",
       "      <td>7.2</td>\n",
       "      <td>2.80</td>\n",
       "      <td>61</td>\n",
       "      <td>4283.4</td>\n",
       "      <td>10</td>\n",
       "      <td>8.3</td>\n",
       "      <td>2</td>\n",
       "    </tr>\n",
       "    <tr>\n",
       "      <th>3</th>\n",
       "      <td>5.6</td>\n",
       "      <td>0.88</td>\n",
       "      <td>30</td>\n",
       "      <td>1744.1</td>\n",
       "      <td>7</td>\n",
       "      <td>6.8</td>\n",
       "      <td>3</td>\n",
       "    </tr>\n",
       "    <tr>\n",
       "      <th>4</th>\n",
       "      <td>5.5</td>\n",
       "      <td>2.00</td>\n",
       "      <td>43</td>\n",
       "      <td>1656.8</td>\n",
       "      <td>38</td>\n",
       "      <td>1.2</td>\n",
       "      <td>4</td>\n",
       "    </tr>\n",
       "  </tbody>\n",
       "</table>\n",
       "</div>"
      ],
      "text/plain": [
       "   opggScore   kda  kill_participation  dmg_per_death  vision  CS_per_min  \\\n",
       "0        4.2  0.50                  17         1072.0       9         4.5   \n",
       "1        5.7  2.80                  61         2502.0       6         6.1   \n",
       "2        7.2  2.80                  61         4283.4      10         8.3   \n",
       "3        5.6  0.88                  30         1744.1       7         6.8   \n",
       "4        5.5  2.00                  43         1656.8      38         1.2   \n",
       "\n",
       "   role  \n",
       "0     0  \n",
       "1     1  \n",
       "2     2  \n",
       "3     3  \n",
       "4     4  "
      ]
     },
     "execution_count": 2,
     "metadata": {},
     "output_type": "execute_result"
    }
   ],
   "source": [
    "data = pd.read_csv(\"databaseOPGG.csv\")\n",
    "data[\"dmg_per_death\"] = data[\"dmg_per_death\"].apply(round, ndigits=1)\n",
    "data.head()"
   ]
  },
  {
   "cell_type": "markdown",
   "metadata": {},
   "source": [
    "### Divisão do dataset entre teste e treino"
   ]
  },
  {
   "cell_type": "code",
   "execution_count": 3,
   "metadata": {},
   "outputs": [],
   "source": [
    "x_treino, x_teste, y_treino, y_teste = train_test_split(data.drop(\"opggScore\", axis=1), data[\"opggScore\"], test_size=0.3)"
   ]
  },
  {
   "cell_type": "code",
   "execution_count": 4,
   "metadata": {},
   "outputs": [
    {
     "data": {
      "text/plain": [
       "Index(['kda', 'kill_participation', 'dmg_per_death', 'vision', 'CS_per_min'], dtype='object')"
      ]
     },
     "execution_count": 4,
     "metadata": {},
     "output_type": "execute_result"
    }
   ],
   "source": [
    "pipe = Pipeline([('scaler', StandardScaler())])\n",
    "role_pipe = Pipeline([(\"one_hot\", OneHotEncoder())])\n",
    "num_columns = data.drop([\"opggScore\", \"role\"], axis=1).columns\n",
    "num_columns"
   ]
  },
  {
   "cell_type": "code",
   "execution_count": 5,
   "metadata": {},
   "outputs": [],
   "source": [
    "transformer = ColumnTransformer([(\"num_columns\", pipe, num_columns), (\"num_columns_role\", role_pipe, [\"role\"])])\n",
    "x_treino_normal = transformer.fit_transform(x_treino)\n",
    "x_teste_normal = transformer.transform(x_teste)"
   ]
  },
  {
   "cell_type": "code",
   "execution_count": 6,
   "metadata": {},
   "outputs": [],
   "source": [
    "#linreg = LinearRegression()\n",
    "#dt = DecisionTreeRegressor()\n",
    "rf = RandomForestRegressor()\n",
    "#knn = KNeighborsRegressor()"
   ]
  },
  {
   "cell_type": "code",
   "execution_count": 7,
   "metadata": {},
   "outputs": [
    {
     "data": {
      "text/plain": [
       "RandomForestRegressor()"
      ]
     },
     "execution_count": 7,
     "metadata": {},
     "output_type": "execute_result"
    }
   ],
   "source": [
    "#linreg.fit(x_treino_normal, y_treino)\n",
    "#dt.fit(x_treino_normal, y_treino)\n",
    "rf.fit(x_treino_normal, y_treino)\n",
    "#knn.fit(x_treino_normal, y_treino)"
   ]
  },
  {
   "cell_type": "code",
   "execution_count": 8,
   "metadata": {},
   "outputs": [],
   "source": [
    "#pred_linreg = linreg.predict(x_teste_normal)\n",
    "#pred_dt = dt.predict(x_teste_normal)\n",
    "pred_rf = rf.predict(x_teste_normal)\n",
    "#pred_knn = knn.predict(x_teste_normal)"
   ]
  },
  {
   "cell_type": "code",
   "execution_count": 9,
   "metadata": {},
   "outputs": [],
   "source": [
    "def evaluation(y_test, y_pred):\n",
    "    print('MAE: ' +str(mean_absolute_error(y_test, y_pred)))\n",
    "    print('MSE: '+str( mean_squared_error(y_test, y_pred)))\n",
    "    print('RMSE: ' +str(np.sqrt(mean_squared_error(y_test, y_pred))))\n",
    "    print('R2: ' +str(r2_score(y_test, y_pred)))"
   ]
  },
  {
   "cell_type": "code",
   "execution_count": 10,
   "metadata": {},
   "outputs": [
    {
     "name": "stdout",
     "output_type": "stream",
     "text": [
      "MAE: 0.3288319060651541\n",
      "MSE: 0.22814758173685296\n",
      "RMSE: 0.4776479684211511\n",
      "R2: 0.8418251555043417\n"
     ]
    }
   ],
   "source": [
    "#evaluation(y_teste, pred_linreg)\n",
    "#evaluation(y_teste, pred_dt)\n",
    "evaluation(y_teste, pred_rf)\n",
    "#evaluation(y_teste, pred_knn)"
   ]
  },
  {
   "cell_type": "markdown",
   "metadata": {},
   "source": [
    "### Teste de alguns parametros para a Florest"
   ]
  },
  {
   "cell_type": "code",
   "execution_count": 11,
   "metadata": {},
   "outputs": [
    {
     "name": "stdout",
     "output_type": "stream",
     "text": [
      "MAE: 0.3275293546393574\n",
      "MSE: 0.22650844701450812\n",
      "RMSE: 0.4759290356917805\n",
      "R2: 0.8429615685131517\n"
     ]
    }
   ],
   "source": [
    "rf1 = RandomForestRegressor(n_estimators=200)\n",
    "rf2 = RandomForestRegressor(max_features=\"sqrt\")\n",
    "rf3 = RandomForestRegressor(max_features=\"log2\")\n",
    "rf4 = RandomForestRegressor(min_samples_split=20)\n",
    "rf4 = RandomForestRegressor(oob_score=True)\n",
    "rf1.fit(x_treino_normal, y_treino)\n",
    "pred_rf1 = rf1.predict(x_teste_normal)\n",
    "evaluation(y_teste, pred_rf1)"
   ]
  },
  {
   "cell_type": "markdown",
   "metadata": {},
   "source": [
    "### Guardando o modelo salvo com joblib"
   ]
  },
  {
   "cell_type": "code",
   "execution_count": 33,
   "metadata": {
    "scrolled": true
   },
   "outputs": [],
   "source": [
    "from joblib import dump, load\n",
    "dump(rf1, 'filename.joblib') \n",
    "model = load('filename.joblib')"
   ]
  },
  {
   "cell_type": "markdown",
   "metadata": {},
   "source": [
    "### Rodando com um CSV teste a execução"
   ]
  },
  {
   "cell_type": "code",
   "execution_count": 40,
   "metadata": {},
   "outputs": [
    {
     "data": {
      "text/plain": [
       "array([7.834 , 6.055 , 7.4875, 7.0365, 6.6875, 4.929 , 5.9835, 7.7705,\n",
       "       6.891 , 7.5155])"
      ]
     },
     "execution_count": 40,
     "metadata": {},
     "output_type": "execute_result"
    }
   ],
   "source": [
    "tt = pd.read_csv(\"apagar.csv\")\n",
    "tt[\"dmg_per_death\"] = tt[\"dmg_per_death\"].apply(round, ndigits=1)\n",
    "x_teste_normal_novo = transformer.transform(tt)\n",
    "\n",
    "r = model.predict(x_teste_normal_novo)\n",
    "r"
   ]
  }
 ],
 "metadata": {
  "kernelspec": {
   "display_name": "Python 3",
   "language": "python",
   "name": "python3"
  },
  "language_info": {
   "codemirror_mode": {
    "name": "ipython",
    "version": 3
   },
   "file_extension": ".py",
   "mimetype": "text/x-python",
   "name": "python",
   "nbconvert_exporter": "python",
   "pygments_lexer": "ipython3",
   "version": "3.8.5"
  }
 },
 "nbformat": 4,
 "nbformat_minor": 4
}
